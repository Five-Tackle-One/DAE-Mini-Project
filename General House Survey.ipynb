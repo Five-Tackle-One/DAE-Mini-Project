{
 "cells": [
  {
   "cell_type": "markdown",
   "id": "derived-comparison",
   "metadata": {},
   "source": [
    "<h1 style=\"text-align:center\"><strong>General House Survey</strong>: An Exploratory Analysis</h1>\n",
    "<p style=\"text-align:left\">Dataset: <a href=\"#\">statsgov</a> </p>"
   ]
  },
  {
   "cell_type": "markdown",
   "id": "elementary-dover",
   "metadata": {},
   "source": [
    "## Table of Contents"
   ]
  },
  {
   "cell_type": "markdown",
   "id": "reserved-lawrence",
   "metadata": {},
   "source": [
    "\n",
    "* [1. Introduction](#chapter2)\n",
    "    * [Problem Context and Motivation](#section_2_1)\n",
    "    * [Describing The Question](#section_2_2)\n",
    "    * [The Overview of The Methodology](#section_2_3)\n",
    "    * [Section Contents](#section_2_4)\n",
    "* [2. Dataset Description](#chapter3)\n",
    "    * [Origin](#section_3_1)\n",
    "    * [Contents](#section_3_2)\n",
    "    * [Date Collected](#section_3_3)\n",
    "    * [Dataset Size](#section_3_4)\n",
    "    * [Data Downloaded](#section_3_4)\n",
    "    * [Validations](#section_3_4)\n",
    "* [3. Aspect of Data Quality](#chapter4)\n",
    "    * [Validity](#section_4_1)\n",
    "    * [Accuracy](#section_4_2)\n",
    "    * [Completeness](#section_4_3)\n",
    "    * [Consistency](#section_4_4)\n",
    "    * [Uniformity](#section_4_5)\n",
    "    * [Answering The Question](#section_4_5)\n",
    " * [4. Data Wrangling](#chapter5)\n",
    "    * [Tidyness](#section_5_1)\n",
    "    * [Techniques](#section_5_2)\n",
    "    * [Sense Checks (Raw vs Cleaned)](#section_5_3)\n",
    " * [5. Exploratory Analysis](#chapter6)\n",
    "    * [Choice of Initial Visualisations and Statistics](#section_6_1)\n",
    "    * [Appropriate Measures](#section_6_2)\n",
    "    * [Relevance To Questions](#section_6_3)\n",
    "    * [Consideration of Accuracy](#section_6_4)\n",
    "    \n",
    "\n"
   ]
  },
  {
   "cell_type": "markdown",
   "id": "valid-recovery",
   "metadata": {},
   "source": [
    "<a id=\"chapter2\" name=\"chapter2\"></a>"
   ]
  },
  {
   "cell_type": "markdown",
   "id": "naughty-earth",
   "metadata": {},
   "source": [
    "<h2 style=\"text-align:center;\"><strong>Introduction</strong>: General House Survey</h2>\n",
    "The concern surrounding this research project pertains to the economic status of South African households given their information. The result of the exploration can lead to accurate depictions of contributing factors towards the desolation of poor communities. Earnings are a large factor contributing to the standards of living of a South African civilian. Thus investigating means that offer insight on the <strong>Net Household Income</strong> will, perhaps, illuminate the issues surrounding the well-being of South African constituencies. Given this thought, we aim to investigate how information detailing the circumstances of each household gives inference to the net household income. "
   ]
  },
  {
   "cell_type": "markdown",
   "id": "induced-objective",
   "metadata": {},
   "source": [
    "<a id=\"chapter2\" name=\"chapter2\"></a>"
   ]
  },
  {
   "cell_type": "markdown",
   "id": "precious-graph",
   "metadata": {},
   "source": [
    "<a id=\"section_2_1\" name=\"section_2_1\"></a>"
   ]
  },
  {
   "cell_type": "markdown",
   "id": "contrary-italian",
   "metadata": {},
   "source": [
    "<h3 style=\"color:lightcoral\"><strong>Data Description</strong></h3>\n",
    "The data used in this project was downloaded from <a href=\"#\">Link</a>. This dataset records x amounts of data\n",
    "We have x rows and x columns. This dataset was downloaded on ______.\n",
    "\n",
    "\n",
    "<h3 style=\"color:lightcoral\"><strong>Independent and Response Variable Selection</strong></h3>\n",
    "The population of the survey consists of all private households in all nine provinces of South Africa and residents in worker's hotels.\n",
    "The <i>response variable</i> considered in this research project is the <strong>Net Household Income</strong>(Q812Netincome) for the <i>household</i> against the following independent variables: \n",
    "\n",
    "<h5 style=\"color:lightcoral\"><strong>House Data</strong></h5>\n",
    "\n",
    "* <strong>Household Expenditure</strong> (What was the total household expenditure in the previous month) - Categorical\n",
    "\n",
    "* <strong>Market Value of The Property</strong>( The munipal valuation of the property) - Categorical\n",
    "\n",
    "* <strong>Head Sex</strong> (What is the head sex of the household) - Discrete \n",
    "\n",
    "* <strong>Head Age</strong> (What is the head sex of the household) - Continuous \n",
    "\n",
    "* <strong>Household Income</strong> (totmhinc) - Continuous\n",
    "\n",
    "<h5 style=\"color:lightcoral\"><strong>Person Data</strong></h5>\n",
    "\n",
    "* <strong>Employment Status</strong> - Discrete\n",
    "\n",
    "* <strong>Relationship To Head of Household</strong> ( Q11RELSH ) - Categorical\n",
    "\n",
    "* <strong>Highest Education Level</strong> (Q15HIEDU) - Discrete \n",
    "\n",
    "\n",
    "<h3 style=\"color:lightcoral\"><strong>Validations Against External Source</strong></h3>\n",
    "\n",
    "<h3 style=\"color:lightcoral\"><strong>Data Representation: </strong></h3><i style='color:black'>Is data representative</i>\n",
    "\n",
    "<h3 style=\"color:lightcoral\"><strong>Research Question</strong></h3>\n",
    "\n",
    "\n",
    "<h3 style=\"color:lightcoral\"><strong>Hypothesis</strong></h3>\n",
    "\n",
    "\n",
    "<h3 style=\"color:lightcoral\"><strong>Data Description</strong></h3>\n",
    "\n",
    "<h5 style=\"color:lightcoral\"><strong>House Data</strong></h5>\n",
    "\n",
    "> ##### <strong>Household Expenditure (Q814Exp)</strong>\n",
    "What was the total household expenditure in the last month? Include everything that the household and its members spent\n",
    "money on, including food, clothing, transport, rent and rates, alcohol and tobacco, school fees, entertainment and any other\n",
    "expenses\n",
    "Range: 0 - 10\n",
    "Value: 11 - Do Not Know\n",
    "\n",
    "\n",
    "> ##### <strong>Market Value of The Property (Q58Val)</strong>\n",
    "Range: 0 - 8\n",
    "Value: 9 - Do Not Know\n",
    "Value: 99 - Unspecified\n",
    "\n",
    "\n",
    "> ##### <strong>Head Sex</strong>\n",
    "The sex of the head <br/>\n",
    "1 - Male<br/>\n",
    "2 - Female<br/>\n",
    "\n",
    "\n",
    "\n",
    "> ##### <strong>Head Age</strong>\n",
    "Range: 0 - 110\n",
    "\n",
    "\n",
    "> ##### <strong> Household Income (tothminc)</strong>\n",
    "Estimated derived variable of total household income.\n",
    "Range: 0 - 9999\n",
    "\n",
    "<h5 style=\"color:lightcoral\"><strong>Person Data</strong></h5>\n",
    "\n",
    "> ##### <strong>Employment Status (employ_Status1)</strong>\n",
    "All individuals aged 15 years and later\n",
    "Range: 1 - 9\n",
    "Values\n",
    "1: Employed\n",
    "2: Unemployed\n",
    "8: Not Applicable\n",
    "9: Unspecified\n",
    "\n",
    "\n",
    "\n",
    "\n",
    "<blockquote> \n",
    "    <h5><strong>Relationship To Head of Household (Q11RELSH)</strong> </h5>\n",
    "Relatinship to the head of the household<br>\n",
    "    <strong>Range</strong>: 1-9<br>\n",
    "<strong>Values</strong><br>\n",
    "1: Head/acting head <br>\n",
    "2: Husband/wife/partner of person <br>\n",
    "3: Son/daughter/stepchild/adopted child of person<br>\n",
    "4: Brother/sister/stepbrother/stepsister of person<br>\n",
    "5: Father/mother/stepfather/stepmother of person <br>\n",
    "6: Grandparent/great grandparent of person<br>\n",
    "7: Grandchild/great grandchild of person<br>\n",
    "8: Other relative (e.g. in-laws or aunt/uncle) of person <br>\n",
    "9: Non-related persons\n",
    " </blockquote><br>\n",
    "\n",
    "\n",
    "<blockquote>\n",
    "  <h5><strong>Highest Education Level (Q15HIEDU)</strong></h5>\n",
    "Highest completed level of education<br>\n",
    "    <strong>Values</strong><br>\n",
    "0: Grade R/0 <br>\n",
    "1: Grade 1/Sub A/Class 1 <br>\n",
    "2: Grade 2/Sub B/Class 2 <br>\n",
    "3: Grade 3/Standard 1/AET 1(Kha Ri Gude, Sanli) <br>\n",
    "4: Grade 4/Standard 2 <br>\n",
    "5: Grade 5/Standard 3/AET 2 <br>\n",
    "6: Grade 6/Standard 4 <br>\n",
    "7: Grade 7/Standard 5/AET 3 <br>\n",
    "8: Grade 8/Standard 6/Form <br>\n",
    "9: Grade 9/Standard 7/Form 2/AET 4  <br>\n",
    "10: Grade 10/Standard 8/ Form <br>\n",
    "11: Grade 11/Standard 9/ Form 4 <br>\n",
    "12: Grade 12/Standard 10/Form 5/Matric (No Exemption) <br>\n",
    "13: Grade 12/Standard 10/Form 5/Matric (Exemption *)  <br>\n",
    "14: NTC 1 N1/NC (V) Level 2 <br>\n",
    "15: NTC 2/N2/ NC (V) Level 3 <br>\n",
    "16: NTC 3/ N3/NC (V)/Level 4 <br>\n",
    "17: N4/NTC 4 <br>\n",
    "18: N5/NTC 5 <br>\n",
    "19: N6/NTC 6 <br>\n",
    "20: Certificate with less than Grade 12/Std <br>\n",
    "21: Diploma with less than Grade 12/Std <br>\n",
    "22: Certificate with Grade 12/Std <br>\n",
    "23: Diploma with Grade 12/Std <br>\n",
    "24: Higher Diploma (Technikon/University of Technology) <br> \n",
    "25: Post Higher Diploma (Technikon/University of Technology Masters, Doctoral) <br>\n",
    "26: Bachelor's Degree  <br>\n",
    "27: Bachelor's Degree and post-graduate diploma  <br>\n",
    "28: Honours Degree <br>\n",
    "29: Higher degree (Master's, Doctorate) <br>\n",
    "30: Other <br>\n",
    "31: Do not know <br>\n",
    "98: No schooling <br>\n",
    "99: Unspecified <br>\n",
    "</blockquote>\n",
    "\n"
   ]
  },
  {
   "cell_type": "markdown",
   "id": "excited-netherlands",
   "metadata": {},
   "source": [
    "<a id=\"section_2_2\" name=\"section_2_2\"></a>"
   ]
  },
  {
   "cell_type": "markdown",
   "id": "ideal-digit",
   "metadata": {},
   "source": [
    "<a id=\"section_2_3\" name=\"section_2_3\"></a>"
   ]
  },
  {
   "cell_type": "markdown",
   "id": "fatal-fossil",
   "metadata": {},
   "source": [
    "<a id=\"section_2_4\" name=\"section_2_4\"></a>"
   ]
  },
  {
   "cell_type": "markdown",
   "id": "comfortable-stroke",
   "metadata": {},
   "source": [
    "<a id=\"chapter3\" name=\"chapter3\"></a>"
   ]
  },
  {
   "cell_type": "markdown",
   "id": "dying-sculpture",
   "metadata": {},
   "source": [
    "<h3 style=\"text-align:center;color:black\"><strong>Data Exploration and Initial Auditing</strong></h3>\n"
   ]
  },
  {
   "cell_type": "markdown",
   "id": "monetary-folks",
   "metadata": {},
   "source": [
    "<a id=\"section_3_1\" name=\"section_3_1\"></a>"
   ]
  },
  {
   "cell_type": "code",
   "execution_count": 1,
   "id": "foreign-ready",
   "metadata": {},
   "outputs": [],
   "source": [
    "import warnings\n",
    "import matplotlib.gridspec as gridspec\n",
    "import matplotlib\n",
    "import seaborn as sns\n",
    "import pandas as pd\n",
    "import numpy as np\n",
    "from IPython.display import display, HTML, Javascript\n",
    "from matplotlib import pyplot as plt\n",
    "import data_cleaning as dc\n",
    "import data_modeling as dm\n",
    "import data_visualization as dv\n",
    "%matplotlib inline\n",
    "warnings.filterwarnings('ignore')"
   ]
  },
  {
   "cell_type": "markdown",
   "id": "adjusted-automation",
   "metadata": {},
   "source": [
    "<h5 style=\"color:lightcoral\"><strong>House Data</strong></h5>"
   ]
  },
  {
   "cell_type": "code",
   "execution_count": 2,
   "id": "simplified-prison",
   "metadata": {},
   "outputs": [],
   "source": [
    "dir_ = \"Datasets/General House Survey/\""
   ]
  },
  {
   "cell_type": "code",
   "execution_count": 3,
   "id": "previous-counter",
   "metadata": {},
   "outputs": [],
   "source": [
    "house_dataset = dir_+\"House/GHS-201{}-HOUSE_F1.csv\"\n",
    "(ghs_2015,ghs_2016,ghs_2017,ghs_2018) = [pd.read_csv(house_dataset.format(i)) for i in range(5,9)]\n",
    "(ghs_2015,ghs_2016,ghs_2017,ghs_2018) = dc.lower_columns(ghs_2015,ghs_2016,ghs_2017,ghs_2018)"
   ]
  },
  {
   "cell_type": "code",
   "execution_count": 4,
   "id": "victorian-arrival",
   "metadata": {},
   "outputs": [],
   "source": [
    "Target = \"Q812Netincome\"\n",
    "Columns = ['UqNr','Personnr','Q814Exp','Q58Val','head_sex','head_age','totmhinc','Q812Netincome'] # Original Dataset Columns \n",
    "Columns = [str.lower(col) for col in Columns]\n",
    "Label_Change = ['Unique Number','Person Number','Expenditure','Market Value','Head Sex',\"Head Age\",\"Income\",\"Net Income\"] # Neatly Named Variables\n",
    "(ghs_2015,ghs_2016,ghs_2017,ghs_2018) = dc.prune_datasets(Label_Change,Columns,ghs_2015,ghs_2016,ghs_2017,ghs_2018)"
   ]
  },
  {
   "cell_type": "code",
   "execution_count": 28,
   "id": "theoretical-cylinder",
   "metadata": {},
   "outputs": [],
   "source": [
    "def display_records_per_year(records,key_string = \"201{} House Survey\"):\n",
    "    key_string = \"201{} House Survey\"\n",
    "    ghs_dict = {}\n",
    "    ghs_keys = [key_string.format(i) for i in range(5,9)]\n",
    "    ghs_records = [len(ghs_i) for ghs_i in records]\n",
    "    ghs_dict = dict(zip(ghs_keys,ghs_records))\n",
    "    ghs_pd = pd.DataFrame.from_dict(ghs_dict,orient='index')\n",
    "    ghs_pd.rename(columns={0:\"Number of Records\"},inplace=True)\n",
    "    return ghs_pd"
   ]
  },
  {
   "cell_type": "code",
   "execution_count": 31,
   "id": "intended-analyst",
   "metadata": {},
   "outputs": [
    {
     "data": {
      "text/html": [
       "<div>\n",
       "<style scoped>\n",
       "    .dataframe tbody tr th:only-of-type {\n",
       "        vertical-align: middle;\n",
       "    }\n",
       "\n",
       "    .dataframe tbody tr th {\n",
       "        vertical-align: top;\n",
       "    }\n",
       "\n",
       "    .dataframe thead th {\n",
       "        text-align: right;\n",
       "    }\n",
       "</style>\n",
       "<table border=\"1\" class=\"dataframe\">\n",
       "  <thead>\n",
       "    <tr style=\"text-align: right;\">\n",
       "      <th></th>\n",
       "      <th>Number of Records</th>\n",
       "    </tr>\n",
       "  </thead>\n",
       "  <tbody>\n",
       "    <tr>\n",
       "      <th>2015 House Survey</th>\n",
       "      <td>21601</td>\n",
       "    </tr>\n",
       "    <tr>\n",
       "      <th>2016 House Survey</th>\n",
       "      <td>21218</td>\n",
       "    </tr>\n",
       "    <tr>\n",
       "      <th>2017 House Survey</th>\n",
       "      <td>21225</td>\n",
       "    </tr>\n",
       "    <tr>\n",
       "      <th>2018 House Survey</th>\n",
       "      <td>20908</td>\n",
       "    </tr>\n",
       "  </tbody>\n",
       "</table>\n",
       "</div>"
      ],
      "text/plain": [
       "                   Number of Records\n",
       "2015 House Survey              21601\n",
       "2016 House Survey              21218\n",
       "2017 House Survey              21225\n",
       "2018 House Survey              20908"
      ]
     },
     "metadata": {},
     "output_type": "display_data"
    },
    {
     "name": "stdout",
     "output_type": "stream",
     "text": [
      "Total House Survey Records:  84952\n"
     ]
    }
   ],
   "source": [
    "# display\n",
    "ghs_values = [ghs_2015,ghs_2016,ghs_2017,ghs_2018]\n",
    "pd_display_ghs = display_records_per_year(ghs_values)\n",
    "display(pd_display_ghs)\n",
    "print(\"Total House Survey Records: \",sum(pd_display_ghs['Number of Records']))"
   ]
  },
  {
   "cell_type": "code",
   "execution_count": 23,
   "id": "refined-salem",
   "metadata": {},
   "outputs": [],
   "source": [
    "frames = [ghs_2015,ghs_2016,ghs_2017,ghs_2018]\n",
    "ghs = pd.concat([ghs_2015,ghs_2016,ghs_2017,ghs_2018])"
   ]
  },
  {
   "cell_type": "markdown",
   "id": "duplicate-article",
   "metadata": {},
   "source": [
    "<h5 style=\"color:lightcoral\"><strong>Person Data</strong></h5>\n",
    "Goals\n",
    "\n",
    "* Describe Operations In Blockquotes"
   ]
  },
  {
   "cell_type": "code",
   "execution_count": 24,
   "id": "champion-music",
   "metadata": {},
   "outputs": [],
   "source": [
    "person_dataset = dir_+\"Person/GHS-201{}-PERSON_F1.csv\"\n",
    "(phs_2015,phs_2016,phs_2017,phs_2018) = [pd.read_csv(person_dataset.format(i)) for i in range(5,9)]\n",
    "(phs_2015,phs_2016,phs_2017,phs_2018) = dc.lower_columns(phs_2015,phs_2016,phs_2017,phs_2018)"
   ]
  },
  {
   "cell_type": "code",
   "execution_count": 32,
   "id": "ready-priority",
   "metadata": {},
   "outputs": [
    {
     "data": {
      "text/html": [
       "<div>\n",
       "<style scoped>\n",
       "    .dataframe tbody tr th:only-of-type {\n",
       "        vertical-align: middle;\n",
       "    }\n",
       "\n",
       "    .dataframe tbody tr th {\n",
       "        vertical-align: top;\n",
       "    }\n",
       "\n",
       "    .dataframe thead th {\n",
       "        text-align: right;\n",
       "    }\n",
       "</style>\n",
       "<table border=\"1\" class=\"dataframe\">\n",
       "  <thead>\n",
       "    <tr style=\"text-align: right;\">\n",
       "      <th></th>\n",
       "      <th>Number of Records</th>\n",
       "    </tr>\n",
       "  </thead>\n",
       "  <tbody>\n",
       "    <tr>\n",
       "      <th>2015 House Survey</th>\n",
       "      <td>74449</td>\n",
       "    </tr>\n",
       "    <tr>\n",
       "      <th>2016 House Survey</th>\n",
       "      <td>72602</td>\n",
       "    </tr>\n",
       "    <tr>\n",
       "      <th>2017 House Survey</th>\n",
       "      <td>72291</td>\n",
       "    </tr>\n",
       "    <tr>\n",
       "      <th>2018 House Survey</th>\n",
       "      <td>71137</td>\n",
       "    </tr>\n",
       "  </tbody>\n",
       "</table>\n",
       "</div>"
      ],
      "text/plain": [
       "                   Number of Records\n",
       "2015 House Survey              74449\n",
       "2016 House Survey              72602\n",
       "2017 House Survey              72291\n",
       "2018 House Survey              71137"
      ]
     },
     "metadata": {},
     "output_type": "display_data"
    },
    {
     "name": "stdout",
     "output_type": "stream",
     "text": [
      "Total Person Survey Records:  290479\n"
     ]
    }
   ],
   "source": [
    "phs_values = [phs_2015,phs_2016,phs_2017,phs_2018]\n",
    "key_string = \"201{} Person Survey\n",
    "pd_display_phs = display_records_per_year(phs_values,key_string)\n",
    "display(pd_display_phs)\n",
    "print(\"Total Person Survey Records: \",sum(pd_display_phs['Number of Records']))"
   ]
  },
  {
   "cell_type": "code",
   "execution_count": 25,
   "id": "acquired-kidney",
   "metadata": {},
   "outputs": [],
   "source": [
    "Columns = ['UqNr','PersonNR','employ_Status1','Q11RELSH','Q15HIEDU'] # Original Dataset Columns \n",
    "Columns = [str.lower(col) for col in Columns]\n",
    "Label_Change = ['Unique Number','Person Number','Employment Status','Relationship To Head','Education Level'] # Neatly Named Variables\n",
    "(phs_2015,phs_2016,phs_2017,phs_2018) =dc. prune_datasets(Label_Change,Columns,phs_2015,phs_2016,phs_2017,phs_2018)"
   ]
  },
  {
   "cell_type": "code",
   "execution_count": 26,
   "id": "patent-shape",
   "metadata": {},
   "outputs": [],
   "source": [
    "frames = [phs_2015,phs_2016,phs_2017,phs_2018]\n",
    "phs = pd.concat([phs_2015,phs_2016,phs_2017,phs_2018])"
   ]
  },
  {
   "cell_type": "code",
   "execution_count": 9,
   "id": "different-pioneer",
   "metadata": {},
   "outputs": [],
   "source": [
    "def swap_columns(data,i,j):\n",
    "    cols = list(data.columns.values)\n",
    "    cols[i],cols[j] = cols[j],cols[i]\n",
    "    return house_survey[cols]"
   ]
  },
  {
   "cell_type": "markdown",
   "id": "selective-casting",
   "metadata": {},
   "source": [
    "<h5 style=\"color:lightcoral\"><strong>Joined Data</strong></h5>\n",
    "Goals\n",
    "\n",
    "* Describe Operations In Blockquotes\n",
    "\n",
    "* Missing Values - Drop all the unspecified values"
   ]
  },
  {
   "cell_type": "code",
   "execution_count": null,
   "id": "still-wheat",
   "metadata": {},
   "outputs": [],
   "source": [
    "house_survey = pd.merge(ghs,phs,on=['Unique Number','Person Number'],how='right').dropna()"
   ]
  },
  {
   "cell_type": "code",
   "execution_count": 34,
   "id": "affiliated-register",
   "metadata": {},
   "outputs": [],
   "source": [
    "house_survey = house_survey.iloc[:,2:]\n",
    "house_survey = dc.set_index(house_survey)\n",
    "house_survey = swap_columns(house_survey,-1,-4)"
   ]
  },
  {
   "cell_type": "code",
   "execution_count": 36,
   "id": "after-armor",
   "metadata": {},
   "outputs": [
    {
     "data": {
      "text/html": [
       "<div>\n",
       "<style scoped>\n",
       "    .dataframe tbody tr th:only-of-type {\n",
       "        vertical-align: middle;\n",
       "    }\n",
       "\n",
       "    .dataframe tbody tr th {\n",
       "        vertical-align: top;\n",
       "    }\n",
       "\n",
       "    .dataframe thead th {\n",
       "        text-align: right;\n",
       "    }\n",
       "</style>\n",
       "<table border=\"1\" class=\"dataframe\">\n",
       "  <thead>\n",
       "    <tr style=\"text-align: right;\">\n",
       "      <th></th>\n",
       "      <th>Expenditure</th>\n",
       "      <th>Market Value</th>\n",
       "      <th>Head Sex</th>\n",
       "      <th>Head Age</th>\n",
       "      <th>Income</th>\n",
       "      <th>Education Level</th>\n",
       "      <th>Employment Status</th>\n",
       "      <th>Relationship To Head</th>\n",
       "      <th>Net Income</th>\n",
       "    </tr>\n",
       "    <tr>\n",
       "      <th>id</th>\n",
       "      <th></th>\n",
       "      <th></th>\n",
       "      <th></th>\n",
       "      <th></th>\n",
       "      <th></th>\n",
       "      <th></th>\n",
       "      <th></th>\n",
       "      <th></th>\n",
       "      <th></th>\n",
       "    </tr>\n",
       "  </thead>\n",
       "  <tbody>\n",
       "    <tr>\n",
       "      <th>0</th>\n",
       "      <td>7.0</td>\n",
       "      <td>1.0</td>\n",
       "      <td>1.0</td>\n",
       "      <td>48.0</td>\n",
       "      <td>2640.0</td>\n",
       "      <td>3</td>\n",
       "      <td>1</td>\n",
       "      <td>1</td>\n",
       "      <td>2000.0</td>\n",
       "    </tr>\n",
       "    <tr>\n",
       "      <th>1</th>\n",
       "      <td>7.0</td>\n",
       "      <td>1.0</td>\n",
       "      <td>1.0</td>\n",
       "      <td>49.0</td>\n",
       "      <td>7764.0</td>\n",
       "      <td>3</td>\n",
       "      <td>1</td>\n",
       "      <td>1</td>\n",
       "      <td>1000.0</td>\n",
       "    </tr>\n",
       "    <tr>\n",
       "      <th>2</th>\n",
       "      <td>7.0</td>\n",
       "      <td>1.0</td>\n",
       "      <td>1.0</td>\n",
       "      <td>50.0</td>\n",
       "      <td>3400.0</td>\n",
       "      <td>3</td>\n",
       "      <td>1</td>\n",
       "      <td>1</td>\n",
       "      <td>1000.0</td>\n",
       "    </tr>\n",
       "    <tr>\n",
       "      <th>3</th>\n",
       "      <td>5.0</td>\n",
       "      <td>1.0</td>\n",
       "      <td>1.0</td>\n",
       "      <td>19.0</td>\n",
       "      <td>2900.0</td>\n",
       "      <td>3</td>\n",
       "      <td>1</td>\n",
       "      <td>1</td>\n",
       "      <td>1000.0</td>\n",
       "    </tr>\n",
       "    <tr>\n",
       "      <th>4</th>\n",
       "      <td>6.0</td>\n",
       "      <td>1.0</td>\n",
       "      <td>1.0</td>\n",
       "      <td>43.0</td>\n",
       "      <td>2400.0</td>\n",
       "      <td>8</td>\n",
       "      <td>1</td>\n",
       "      <td>1</td>\n",
       "      <td>2000.0</td>\n",
       "    </tr>\n",
       "    <tr>\n",
       "      <th>...</th>\n",
       "      <td>...</td>\n",
       "      <td>...</td>\n",
       "      <td>...</td>\n",
       "      <td>...</td>\n",
       "      <td>...</td>\n",
       "      <td>...</td>\n",
       "      <td>...</td>\n",
       "      <td>...</td>\n",
       "      <td>...</td>\n",
       "    </tr>\n",
       "    <tr>\n",
       "      <th>297696</th>\n",
       "      <td>9.0</td>\n",
       "      <td>7.0</td>\n",
       "      <td>2.0</td>\n",
       "      <td>43.0</td>\n",
       "      <td>330.0</td>\n",
       "      <td>12</td>\n",
       "      <td>1</td>\n",
       "      <td>1</td>\n",
       "      <td>8300.0</td>\n",
       "    </tr>\n",
       "    <tr>\n",
       "      <th>297697</th>\n",
       "      <td>9.0</td>\n",
       "      <td>5.0</td>\n",
       "      <td>1.0</td>\n",
       "      <td>51.0</td>\n",
       "      <td>6760.0</td>\n",
       "      <td>12</td>\n",
       "      <td>1</td>\n",
       "      <td>1</td>\n",
       "      <td>3000.0</td>\n",
       "    </tr>\n",
       "    <tr>\n",
       "      <th>297698</th>\n",
       "      <td>8.0</td>\n",
       "      <td>1.0</td>\n",
       "      <td>1.0</td>\n",
       "      <td>28.0</td>\n",
       "      <td>330.0</td>\n",
       "      <td>4</td>\n",
       "      <td>1</td>\n",
       "      <td>1</td>\n",
       "      <td>2000.0</td>\n",
       "    </tr>\n",
       "    <tr>\n",
       "      <th>297699</th>\n",
       "      <td>5.0</td>\n",
       "      <td>1.0</td>\n",
       "      <td>1.0</td>\n",
       "      <td>40.0</td>\n",
       "      <td>2656.0</td>\n",
       "      <td>4</td>\n",
       "      <td>1</td>\n",
       "      <td>1</td>\n",
       "      <td>600.0</td>\n",
       "    </tr>\n",
       "    <tr>\n",
       "      <th>297700</th>\n",
       "      <td>4.0</td>\n",
       "      <td>1.0</td>\n",
       "      <td>1.0</td>\n",
       "      <td>31.0</td>\n",
       "      <td>0.0</td>\n",
       "      <td>8</td>\n",
       "      <td>9</td>\n",
       "      <td>1</td>\n",
       "      <td>400.0</td>\n",
       "    </tr>\n",
       "  </tbody>\n",
       "</table>\n",
       "<p>297701 rows × 9 columns</p>\n",
       "</div>"
      ],
      "text/plain": [
       "        Expenditure  Market Value  Head Sex  Head Age  Income  \\\n",
       "id                                                              \n",
       "0               7.0           1.0       1.0      48.0  2640.0   \n",
       "1               7.0           1.0       1.0      49.0  7764.0   \n",
       "2               7.0           1.0       1.0      50.0  3400.0   \n",
       "3               5.0           1.0       1.0      19.0  2900.0   \n",
       "4               6.0           1.0       1.0      43.0  2400.0   \n",
       "...             ...           ...       ...       ...     ...   \n",
       "297696          9.0           7.0       2.0      43.0   330.0   \n",
       "297697          9.0           5.0       1.0      51.0  6760.0   \n",
       "297698          8.0           1.0       1.0      28.0   330.0   \n",
       "297699          5.0           1.0       1.0      40.0  2656.0   \n",
       "297700          4.0           1.0       1.0      31.0     0.0   \n",
       "\n",
       "        Education Level  Employment Status  Relationship To Head  Net Income  \n",
       "id                                                                            \n",
       "0                     3                  1                     1      2000.0  \n",
       "1                     3                  1                     1      1000.0  \n",
       "2                     3                  1                     1      1000.0  \n",
       "3                     3                  1                     1      1000.0  \n",
       "4                     8                  1                     1      2000.0  \n",
       "...                 ...                ...                   ...         ...  \n",
       "297696               12                  1                     1      8300.0  \n",
       "297697               12                  1                     1      3000.0  \n",
       "297698                4                  1                     1      2000.0  \n",
       "297699                4                  1                     1       600.0  \n",
       "297700                8                  9                     1       400.0  \n",
       "\n",
       "[297701 rows x 9 columns]"
      ]
     },
     "execution_count": 36,
     "metadata": {},
     "output_type": "execute_result"
    }
   ],
   "source": [
    "house_survey"
   ]
  },
  {
   "cell_type": "markdown",
   "id": "recognized-glass",
   "metadata": {},
   "source": [
    "<h2 style=\"text-align:center;color:black\"><strong>Data Visualization</strong></h2>"
   ]
  },
  {
   "cell_type": "markdown",
   "id": "published-appraisal",
   "metadata": {},
   "source": [
    "<a id=\"section_3_2\" name=\"section_3_2\"></a>"
   ]
  },
  {
   "cell_type": "markdown",
   "id": "likely-newman",
   "metadata": {},
   "source": [
    "<h5 style=\"color:lightcoral\"><strong>Household Mean Net Income Per Head Sex (2015 - 2018)</strong></h5>"
   ]
  },
  {
   "cell_type": "code",
   "execution_count": 120,
   "id": "overhead-discharge",
   "metadata": {},
   "outputs": [
    {
     "data": {
      "text/plain": [
       "Text(0, 0.5, 'Mean earnings')"
      ]
     },
     "execution_count": 120,
     "metadata": {},
     "output_type": "execute_result"
    },
    {
     "data": {
      "image/png": "[encoded data removed]",
      "text/plain": [
       "<Figure size 1440x720 with 1 Axes>"
      ]
     },
     "metadata": {},
     "output_type": "display_data"
    }
   ],
   "source": [
    "# sorted(ghs_2015['Net Income'])) #999999\n",
    "# net_income = list(filter(lambda x: (x != 999999) , ghs_2016['Net Income']))\n",
    "# net_income = list(filter(lambda x: (x != 0) , net_income))\n",
    "# net_income = sorted(net_income)\n",
    "# ghs_values\n",
    "\"\"\"\n",
    "Male\n",
    "Head Sex\n",
    "1    19259.803212\n",
    "\"\"\"\n",
    "# ghs_2016.groupby([\"Head Sex\"]).mean()['Net Income'].values[0]\n",
    "sns.set()\n",
    "sns.set_palette(\"Reds\", n_colors=2)\n",
    "Years = [\"2015\",\"2016\",\"2017\",\"2018\"]\n",
    "males_incomes = [ghs_value.groupby([\"Head Sex\"]).mean()['Net Income'].values[0] for ghs_value in ghs_values]\n",
    "females_incomes = [ghs_value.groupby([\"Head Sex\"]).mean()['Net Income'].values[1] for ghs_value in ghs_values]\n",
    "dict_ = dict(zip(Years,males_incomes))\n",
    "dict_2 = dict(zip(Years,females_incomes))\n",
    "Yearly_plot = pd.DataFrame.from_dict(dict_,orient='index')\n",
    "Yearly_plot.rename(columns={0:\"Males\"},inplace=True)\n",
    "Yearly_plot['Females'] = females_incomes\n",
    "Yearly_plot.plot(figsize=(20,10))\n",
    "plt.legend(['Male','Female'],fancybox=True,fontsize=15)\n",
    "plt.title('Mean monthly earnings per gender (2013-2017)',fontsize=15)\n",
    "# plt.xticks(np.arange(2013, 2017, 1))  \n",
    "plt.xlabel('Year',fontsize=20)\n",
    "plt.ylabel('Mean earnings',fontsize=20)\n",
    "# fig, ax = plt.subplots(figsize=(15,10))\n",
    "# plt.plot(net_income)\n",
    "# plt.legend(['Male','Female'],fancybox=True,fontsize=15)\n",
    "# plt.title('Mean monthly earnings per gender (2013-2017)',fontsize=20)\n",
    "# plt.xticks(np.arange(2013, 2017, 1))  \n",
    "# plt.xlabel('Year',fontsize=20)\n",
    "# plt.ylabel('Mean earnings',fontsize=20)"
   ]
  },
  {
   "cell_type": "markdown",
   "id": "dense-germany",
   "metadata": {},
   "source": [
    "<a id=\"section_3_3\" name=\"section_3_3\"></a>"
   ]
  },
  {
   "cell_type": "markdown",
   "id": "worse-theory",
   "metadata": {},
   "source": [
    "<a id=\"section_3_4\" name=\"section_3_4\"></a>"
   ]
  },
  {
   "cell_type": "markdown",
   "id": "invisible-collectible",
   "metadata": {},
   "source": [
    "<a id=\"section_3_5\" name=\"section_3_5\"></a>"
   ]
  },
  {
   "cell_type": "markdown",
   "id": "graphic-tournament",
   "metadata": {},
   "source": [
    "<a id=\"chapter4\" name=\"chapter4\"></a>"
   ]
  },
  {
   "cell_type": "markdown",
   "id": "artificial-arbitration",
   "metadata": {},
   "source": [
    "<a id=\"section_4_1\" name=\"section_4_1\"></a>"
   ]
  },
  {
   "cell_type": "markdown",
   "id": "spare-minnesota",
   "metadata": {},
   "source": [
    "<a id=\"section_4_2\" name=\"section_4_2\"></a>"
   ]
  },
  {
   "cell_type": "markdown",
   "id": "pointed-shopping",
   "metadata": {},
   "source": [
    "<a id=\"section_4_3\" name=\"section_4_3\"></a>"
   ]
  },
  {
   "cell_type": "markdown",
   "id": "compliant-canal",
   "metadata": {},
   "source": [
    "<a id=\"section_4_4\" name=\"section_4_4\"></a>"
   ]
  },
  {
   "cell_type": "markdown",
   "id": "psychological-tuner",
   "metadata": {},
   "source": [
    "<a id=\"section_4_5\" name=\"section_4_5\"></a>"
   ]
  },
  {
   "cell_type": "markdown",
   "id": "blind-adjustment",
   "metadata": {},
   "source": [
    "<a id=\"chapter5\" name=\"chapter5\"></a>"
   ]
  },
  {
   "cell_type": "markdown",
   "id": "theoretical-slave",
   "metadata": {},
   "source": [
    "<a id=\"section_5_1\" name=\"section_5_1\"></a>"
   ]
  },
  {
   "cell_type": "markdown",
   "id": "broke-penguin",
   "metadata": {},
   "source": [
    "<a id=\"section_5_2\" name=\"section_5_2\"></a>"
   ]
  },
  {
   "cell_type": "markdown",
   "id": "differential-eclipse",
   "metadata": {},
   "source": [
    "<a id=\"section_5_3\" name=\"section_5_3\"></a>"
   ]
  },
  {
   "cell_type": "markdown",
   "id": "eleven-measurement",
   "metadata": {},
   "source": [
    "<a id=\"chapter6\" name=\"chapter6\"></a>"
   ]
  },
  {
   "cell_type": "markdown",
   "id": "manual-comfort",
   "metadata": {},
   "source": [
    "<a id=\"section_6_1\" name=\"section_6_1\"></a>"
   ]
  },
  {
   "cell_type": "markdown",
   "id": "lonely-france",
   "metadata": {},
   "source": [
    "<a id=\"section_6_2\" name=\"section_6_2\"></a>"
   ]
  },
  {
   "cell_type": "markdown",
   "id": "nasty-draft",
   "metadata": {},
   "source": [
    "<a id=\"section_6_3\" name=\"section_6_3\"></a>"
   ]
  },
  {
   "cell_type": "markdown",
   "id": "prepared-basin",
   "metadata": {},
   "source": []
  }
 ],
 "metadata": {
  "kernelspec": {
   "display_name": "Python 3",
   "language": "python",
   "name": "python3"
  },
  "language_info": {
   "codemirror_mode": {
    "name": "ipython",
    "version": 3
   },
   "file_extension": ".py",
   "mimetype": "text/x-python",
   "name": "python",
   "nbconvert_exporter": "python",
   "pygments_lexer": "ipython3",
   "version": "3.8.5"
  }
 },
 "nbformat": 4,
 "nbformat_minor": 5
}
