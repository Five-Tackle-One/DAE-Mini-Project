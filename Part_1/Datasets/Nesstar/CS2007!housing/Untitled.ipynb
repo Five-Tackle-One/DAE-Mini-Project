{
 "cells": [
  {
   "cell_type": "markdown",
   "metadata": {},
   "source": [
    "<h1><center>Inference: Socio-economic wellness of South Africa</center></h1>"
   ]
  },
  {
   "cell_type": "code",
   "execution_count": null,
   "metadata": {},
   "outputs": [],
   "source": [
    "import numpy as np\n",
    "import pandas as pd"
   ]
  },
  {
   "cell_type": "markdown",
   "metadata": {},
   "source": []
  },
  {
   "cell_type": "markdown",
   "metadata": {},
   "source": [
    "### **Intoduction**\n",
    "We live in a beautiful diverse country. A country with beautiful people who get along and fight here and there, a country of great people who understand their differences to those they live with. A country where not everything is perfect but things could be better. In a country where people are either competing, getting by or barely surving day by day. We live in a very beautiful diverse country where people have different standards of living. Where standard of living is measured by what they have and what they are able to afford and what independant variables are exposed to some and not to others. In this Project we aim to identify the standard of living of south africans through a survey that was done nationally with a sample of approximately quarter of a million instance of people, where an instance is either an individual or a family.\n",
    "\n",
    "#### **Research question**\n",
    "Living in a developing country of diverse cultures, On Everage, do we have more people suffering or living on an everage standard of living or is majority of the people affording wealthy lifestyles?\n",
    "\n",
    "#### **Hypothesis**\n",
    "To answer the question we look at factors like the types of homes and facilities that people living in and ease of access to certain things and scarsity of certain things to different families and individuals. From there we then make in inference as to what is the dominating type of standard of living in South Africa. Before we begin, we have a hypothesis, that mojority of South Africans are living a normal standard of life, there's way lesser rich people and and the there are those who are poor whose numbers are more than those that are rich.\n",
    "\n",
    "#### **Methodology**\n",
    "Steps we plan to take in achieving our goal\n",
    "1. Read in data\n",
    "2. Remove Data we do no need (e.g colums with the same value throughout or nulls where appropriate)\n",
    "3. Do further cleanings if necessary\n",
    "4. Exploratory Data analyses of cleaned data\n",
    "5. Add to this list after the first 4 steps\n",
    "\n",
    "#### **Data Description**\n",
    "It is worthy to mention that, like any other data, there might be data that is useless in terms of us answering the question at hand.\n",
    "With that said, the data consists of `29 fields` in total and `246618 records`.\n",
    "\n",
    "**The Data**\n",
    "0. SN\n",
    "    * This is a the serial number, this is a derived data which keeps is merely an index to of every record.\n",
    "    * This field is irrelavant to us for the purposes of our project\n",
    "1. Scope_Status\n",
    "    * This field is also a derived and had nothing to do with the survey itself other.\n",
    "    * Every Single record shares the same the value and therefore we will not be"
   ]
  },
  {
   "cell_type": "code",
   "execution_count": 33,
   "metadata": {},
   "outputs": [],
   "source": []
  },
  {
   "cell_type": "code",
   "execution_count": 34,
   "metadata": {},
   "outputs": [],
   "source": [
    "df = pd.read_csv('CS2007!housing_F1.csv')\n"
   ]
  },
  {
   "cell_type": "code",
   "execution_count": 32,
   "metadata": {},
   "outputs": [
    {
     "name": "stdout",
     "output_type": "stream",
     "text": [
      "<class 'pandas.core.frame.DataFrame'>\n",
      "RangeIndex: 246618 entries, 0 to 246617\n",
      "Data columns (total 29 columns):\n",
      " #   Column              Non-Null Count   Dtype  \n",
      "---  ------              --------------   -----  \n",
      " 0   SN                  246618 non-null  int64  \n",
      " 1   Scope_Status        246618 non-null  int64  \n",
      " 2   H01_Hu              246618 non-null  int64  \n",
      " 3   H02_Rooms           246618 non-null  object \n",
      " 4   H03_Water_Access    246618 non-null  int64  \n",
      " 5   H04_Serv_Prov       246618 non-null  int64  \n",
      " 6   H05_Water_Distance  246618 non-null  int64  \n",
      " 7   H06_Toilet_Facil    246618 non-null  int64  \n",
      " 8   H07_Cooking         246618 non-null  int64  \n",
      " 9   H08_Heating         246618 non-null  int64  \n",
      " 10  H09_Lighting        246618 non-null  int64  \n",
      " 11  H10A_Fridge         246618 non-null  int64  \n",
      " 12  H10B_Radio          246618 non-null  int64  \n",
      " 13  H10D_Computer       246618 non-null  int64  \n",
      " 14  H10C_Television     246618 non-null  int64  \n",
      " 15  H10E_Telephone      246618 non-null  int64  \n",
      " 16  H10F_Internet       246618 non-null  int64  \n",
      " 17  H10G_Postfacil      246618 non-null  int64  \n",
      " 18  H10H_Cell           246618 non-null  int64  \n",
      " 19  H11_Tenure          246618 non-null  int64  \n",
      " 20  H12_Refuse          246618 non-null  int64  \n",
      " 21  HHIncome            246618 non-null  int64  \n",
      " 22  Weight              246618 non-null  float64\n",
      " 23  Prv2001_Code        246618 non-null  int64  \n",
      " 24  Prv2005_Code        246618 non-null  int64  \n",
      " 25  DC2001_Code         246618 non-null  int64  \n",
      " 26  DC2005_Code         246618 non-null  int64  \n",
      " 27  Mun2001_Code        246618 non-null  int64  \n",
      " 28  Mun2005_Code        246618 non-null  int64  \n",
      "dtypes: float64(1), int64(27), object(1)\n",
      "memory usage: 54.6+ MB\n"
     ]
    }
   ],
   "source": [
    "df.info()"
   ]
  },
  {
   "cell_type": "code",
   "execution_count": 29,
   "metadata": {},
   "outputs": [],
   "source": [
    "# Removing columns we don't need\n",
    "df = df.drop(columns=['Scope_Status','SN'])"
   ]
  },
  {
   "cell_type": "code",
   "execution_count": 30,
   "metadata": {},
   "outputs": [
    {
     "name": "stdout",
     "output_type": "stream",
     "text": [
      "<class 'pandas.core.frame.DataFrame'>\n",
      "RangeIndex: 246618 entries, 0 to 246617\n",
      "Data columns (total 28 columns):\n",
      " #   Column              Non-Null Count   Dtype  \n",
      "---  ------              --------------   -----  \n",
      " 0   SN                  246618 non-null  int64  \n",
      " 1   H01_Hu              246618 non-null  int64  \n",
      " 2   H02_Rooms           246618 non-null  object \n",
      " 3   H03_Water_Access    246618 non-null  int64  \n",
      " 4   H04_Serv_Prov       246618 non-null  int64  \n",
      " 5   H05_Water_Distance  246618 non-null  int64  \n",
      " 6   H06_Toilet_Facil    246618 non-null  int64  \n",
      " 7   H07_Cooking         246618 non-null  int64  \n",
      " 8   H08_Heating         246618 non-null  int64  \n",
      " 9   H09_Lighting        246618 non-null  int64  \n",
      " 10  H10A_Fridge         246618 non-null  int64  \n",
      " 11  H10B_Radio          246618 non-null  int64  \n",
      " 12  H10D_Computer       246618 non-null  int64  \n",
      " 13  H10C_Television     246618 non-null  int64  \n",
      " 14  H10E_Telephone      246618 non-null  int64  \n",
      " 15  H10F_Internet       246618 non-null  int64  \n",
      " 16  H10G_Postfacil      246618 non-null  int64  \n",
      " 17  H10H_Cell           246618 non-null  int64  \n",
      " 18  H11_Tenure          246618 non-null  int64  \n",
      " 19  H12_Refuse          246618 non-null  int64  \n",
      " 20  HHIncome            246618 non-null  int64  \n",
      " 21  Weight              246618 non-null  float64\n",
      " 22  Prv2001_Code        246618 non-null  int64  \n",
      " 23  Prv2005_Code        246618 non-null  int64  \n",
      " 24  DC2001_Code         246618 non-null  int64  \n",
      " 25  DC2005_Code         246618 non-null  int64  \n",
      " 26  Mun2001_Code        246618 non-null  int64  \n",
      " 27  Mun2005_Code        246618 non-null  int64  \n",
      "dtypes: float64(1), int64(26), object(1)\n",
      "memory usage: 52.7+ MB\n"
     ]
    }
   ],
   "source": [
    "df.info()"
   ]
  },
  {
   "cell_type": "code",
   "execution_count": null,
   "metadata": {},
   "outputs": [],
   "source": []
  }
 ],
 "metadata": {
  "kernelspec": {
   "display_name": "Python 3",
   "language": "python",
   "name": "python3"
  },
  "language_info": {
   "codemirror_mode": {
    "name": "ipython",
    "version": 3
   },
   "file_extension": ".py",
   "mimetype": "text/x-python",
   "name": "python",
   "nbconvert_exporter": "python",
   "pygments_lexer": "ipython3",
   "version": "3.8.5"
  }
 },
 "nbformat": 4,
 "nbformat_minor": 4
}
